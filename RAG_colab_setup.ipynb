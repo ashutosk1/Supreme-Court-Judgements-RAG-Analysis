{
  "nbformat": 4,
  "nbformat_minor": 0,
  "metadata": {
    "colab": {
      "provenance": [],
      "gpuType": "T4"
    },
    "kernelspec": {
      "name": "python3",
      "display_name": "Python 3"
    },
    "language_info": {
      "name": "python"
    },
    "accelerator": "GPU"
  },
  "cells": [
    {
      "cell_type": "markdown",
      "source": [
        "## Authentication on Huggingface for downloading the pre-trained Model weights and Tokenizer"
      ],
      "metadata": {
        "id": "MTYYLR2cV-X1"
      }
    },
    {
      "cell_type": "markdown",
      "source": [
        "Get user access tokens on Huggingface: https://huggingface.co/settings/tokens"
      ],
      "metadata": {
        "id": "0xgowdTtXB45"
      }
    },
    {
      "cell_type": "code",
      "source": [
        "!huggingface-cli login"
      ],
      "metadata": {
        "colab": {
          "base_uri": "https://localhost:8080/"
        },
        "id": "VP0GgF0lHUQ9",
        "outputId": "eabceba6-f96e-409f-c084-6ebb2c5c9196"
      },
      "execution_count": 1,
      "outputs": [
        {
          "output_type": "stream",
          "name": "stdout",
          "text": [
            "\n",
            "    _|    _|  _|    _|    _|_|_|    _|_|_|  _|_|_|  _|      _|    _|_|_|      _|_|_|_|    _|_|      _|_|_|  _|_|_|_|\n",
            "    _|    _|  _|    _|  _|        _|          _|    _|_|    _|  _|            _|        _|    _|  _|        _|\n",
            "    _|_|_|_|  _|    _|  _|  _|_|  _|  _|_|    _|    _|  _|  _|  _|  _|_|      _|_|_|    _|_|_|_|  _|        _|_|_|\n",
            "    _|    _|  _|    _|  _|    _|  _|    _|    _|    _|    _|_|  _|    _|      _|        _|    _|  _|        _|\n",
            "    _|    _|    _|_|      _|_|_|    _|_|_|  _|_|_|  _|      _|    _|_|_|      _|        _|    _|    _|_|_|  _|_|_|_|\n",
            "\n",
            "    A token is already saved on your machine. Run `huggingface-cli whoami` to get more information or `huggingface-cli logout` if you want to log out.\n",
            "    Setting a new token will erase the existing one.\n",
            "    To login, `huggingface_hub` requires a token generated from https://huggingface.co/settings/tokens .\n",
            "Enter your token (input will not be visible): \n",
            "Add token as git credential? (Y/n) N\n",
            "Token is valid (permission: read).\n",
            "Your token has been saved to /root/.cache/huggingface/token\n",
            "Login successful\n"
          ]
        }
      ]
    },
    {
      "cell_type": "markdown",
      "source": [
        "## Setting up project directory paths"
      ],
      "metadata": {
        "id": "oEr0HucjWoiM"
      }
    },
    {
      "cell_type": "code",
      "source": [
        "HOME_DIR = \"/content/SupremeCourt-Judicial-RAG-Analysis\"\n",
        "SCRIPT_DIR = HOME_DIR + \"/Scripts\"\n",
        "\n",
        "print(f\"HOME DIR : {HOME_DIR}\")\n",
        "print(f\"SCRIPT DIR : {SCRIPT_DIR}\")"
      ],
      "metadata": {
        "colab": {
          "base_uri": "https://localhost:8080/"
        },
        "id": "d6B6cZ7p9Kzi",
        "outputId": "1d87fed4-ae04-4aa6-b912-15e77c21bf58"
      },
      "execution_count": 2,
      "outputs": [
        {
          "output_type": "stream",
          "name": "stdout",
          "text": [
            "HOME DIR : /content/SupremeCourt-Judicial-RAG-Analysis\n",
            "SCRIPT DIR : /content/SupremeCourt-Judicial-RAG-Analysis/Scripts\n"
          ]
        }
      ]
    },
    {
      "cell_type": "markdown",
      "source": [
        "## Clone the Github Repo"
      ],
      "metadata": {
        "id": "HS4aqQ4MXTI0"
      }
    },
    {
      "cell_type": "code",
      "execution_count": 3,
      "metadata": {
        "id": "ADRZu1H68Q5_",
        "colab": {
          "base_uri": "https://localhost:8080/"
        },
        "outputId": "0dc613b5-28c0-4e72-c370-e88c8d1f0782"
      },
      "outputs": [
        {
          "output_type": "stream",
          "name": "stdout",
          "text": [
            "Cleaning the older code base\n"
          ]
        }
      ],
      "source": [
        "import os\n",
        "\n",
        "REPO_URL = \"https://github.com/ashutosk1/SupremeCourt-Judicial-RAG-Analysis.git\"\n",
        "replace_old_repo = True\n",
        "\n",
        "if replace_old_repo and os.path.exists(HOME_DIR):\n",
        "  print(f\"Cleaning the older code base\")\n",
        "  os.system(f\"rm -rf {HOME_DIR}\")\n",
        "  os.system(f\"git clone {REPO_URL}\")\n",
        "\n",
        "if not os.path.exists(HOME_DIR):\n",
        "  os.system(f\"git clone {REPO_URL}\")"
      ]
    },
    {
      "cell_type": "markdown",
      "source": [
        "## Update the config values directly from the Colab code-cell"
      ],
      "metadata": {
        "id": "DJCQwhZzbrKz"
      }
    },
    {
      "cell_type": "markdown",
      "source": [
        "```\n",
        "{\n",
        "    \"DATA_DIR\": \"../DATA\",\n",
        "    \"SAVED_DIR\": \"../STORED_EMBED\",\n",
        "    \"PARAMS\": {\n",
        "        \"num_examples\": 10000,\n",
        "        \"num_sentences_per_chunk\": 5,\n",
        "        \"min_token_len\": 30,\n",
        "        \"batch_size\": 32,\n",
        "        \"num_nearest_search\": 5\n",
        "    },\n",
        "    \"DEVICE\": \"cpu\",\n",
        "    \"EMBED_MODEL\": \"all-mpnet-base-v2\",\n",
        "    \"LLM\": {\n",
        "        \"model_name\": \"google/gemma-2b-it\",\n",
        "        \"use_quantization\": true,\n",
        "        \"max_new_tokens\": 256,\n",
        "        \"temperature\": 0.7,\n",
        "        \"return_answer_only\": false\n",
        "    }\n",
        "}\n",
        "```\n",
        "\n",
        "Add dictionary (key-value) pairs as necessary."
      ],
      "metadata": {
        "id": "ZXpDV3zgb2vr"
      }
    },
    {
      "cell_type": "code",
      "source": [
        "import json\n",
        "\n",
        "def update_json_file(json_path, updates):\n",
        "    \"\"\"\n",
        "    Reads a JSON file, updates its values, and writes it back\n",
        "    \"\"\"\n",
        "    with open(json_path, 'r') as file:\n",
        "        data = json.load(file)\n",
        "\n",
        "    for key, value in updates.items():\n",
        "        if key in data:\n",
        "            data[key] = value\n",
        "        else:\n",
        "            raise KeyError(f\"Key '{key}' not found\")\n",
        "    with open(json_path, 'w') as file:\n",
        "        json.dump(data, file, indent=4)\n",
        "\n",
        "# Example usage\n",
        "updates = {\n",
        "\n",
        "           \"DATA_DIR\" : \"/content/drive/MyDrive/SCI-RAG_ANALYSIS/merged\",\n",
        "           \"SAVED_DIR\" : \"/content/drive/MyDrive/SCI-RAG-ANALYSIS/embeddings\"\n",
        "          }\n",
        "\n",
        "update_json_file(SCRIPT_DIR + \"/constants.json\", updates)"
      ],
      "metadata": {
        "id": "HqoFLrTQB6wb"
      },
      "execution_count": 15,
      "outputs": []
    },
    {
      "cell_type": "markdown",
      "source": [
        "##  Change directory, update the system path, and install requirements"
      ],
      "metadata": {
        "id": "l6o13FcucZJl"
      }
    },
    {
      "cell_type": "code",
      "source": [
        "from google.colab import drive\n",
        "drive.mount('/content/drive')"
      ],
      "metadata": {
        "colab": {
          "base_uri": "https://localhost:8080/"
        },
        "id": "4Fkx5AgHhp0P",
        "outputId": "250019bf-4c08-4e92-c798-3e44992fcd15"
      },
      "execution_count": 12,
      "outputs": [
        {
          "output_type": "stream",
          "name": "stdout",
          "text": [
            "Mounted at /content/drive\n"
          ]
        }
      ]
    },
    {
      "cell_type": "code",
      "source": [
        "%cd $SCRIPT_DIR\n",
        "\n",
        "import sys\n",
        "sys.path.append(SCRIPT_DIR)"
      ],
      "metadata": {
        "colab": {
          "base_uri": "https://localhost:8080/"
        },
        "id": "pxE5jM3_9kv2",
        "outputId": "216cb328-cb74-44a3-a7de-65ddaafa0d65"
      },
      "execution_count": 5,
      "outputs": [
        {
          "output_type": "stream",
          "name": "stdout",
          "text": [
            "/content/SupremeCourt-Judicial-RAG-Analysis/Scripts\n"
          ]
        }
      ]
    },
    {
      "cell_type": "code",
      "source": [
        "!pip install -r $HOME_DIR/requirements.txt"
      ],
      "metadata": {
        "colab": {
          "base_uri": "https://localhost:8080/"
        },
        "collapsed": true,
        "id": "hwTXFAsVBJt5",
        "outputId": "f44782d2-f66e-4181-d3e9-e4beeed2da6f"
      },
      "execution_count": 6,
      "outputs": [
        {
          "output_type": "stream",
          "name": "stdout",
          "text": [
            "Requirement already satisfied: beautifulsoup4==4.12.3 in /usr/local/lib/python3.10/dist-packages (from -r /content/SupremeCourt-Judicial-RAG-Analysis/requirements.txt (line 1)) (4.12.3)\n",
            "Collecting constants==2023.2.0 (from -r /content/SupremeCourt-Judicial-RAG-Analysis/requirements.txt (line 2))\n",
            "  Using cached constants-2023.2.0.tar.gz (5.4 kB)\n",
            "  Preparing metadata (setup.py) ... \u001b[?25l\u001b[?25hdone\n",
            "Collecting faiss_cpu==1.8.0 (from -r /content/SupremeCourt-Judicial-RAG-Analysis/requirements.txt (line 3))\n",
            "  Using cached faiss_cpu-1.8.0-cp310-cp310-manylinux_2_17_x86_64.manylinux2014_x86_64.whl (27.0 MB)\n",
            "Collecting numpy==1.26.4 (from -r /content/SupremeCourt-Judicial-RAG-Analysis/requirements.txt (line 4))\n",
            "  Using cached numpy-1.26.4-cp310-cp310-manylinux_2_17_x86_64.manylinux2014_x86_64.whl (18.2 MB)\n",
            "Collecting pandas==2.2.2 (from -r /content/SupremeCourt-Judicial-RAG-Analysis/requirements.txt (line 5))\n",
            "  Using cached pandas-2.2.2-cp310-cp310-manylinux_2_17_x86_64.manylinux2014_x86_64.whl (13.0 MB)\n",
            "Collecting Requests==2.32.3 (from -r /content/SupremeCourt-Judicial-RAG-Analysis/requirements.txt (line 6))\n",
            "  Using cached requests-2.32.3-py3-none-any.whl (64 kB)\n",
            "Collecting sentence_transformers==3.0.0 (from -r /content/SupremeCourt-Judicial-RAG-Analysis/requirements.txt (line 7))\n",
            "  Using cached sentence_transformers-3.0.0-py3-none-any.whl (224 kB)\n",
            "Requirement already satisfied: spacy==3.7.4 in /usr/local/lib/python3.10/dist-packages (from -r /content/SupremeCourt-Judicial-RAG-Analysis/requirements.txt (line 8)) (3.7.4)\n",
            "Collecting torch==2.1.0 (from -r /content/SupremeCourt-Judicial-RAG-Analysis/requirements.txt (line 9))\n",
            "  Using cached torch-2.1.0-cp310-cp310-manylinux1_x86_64.whl (670.2 MB)\n",
            "Requirement already satisfied: transformers==4.41.2 in /usr/local/lib/python3.10/dist-packages (from -r /content/SupremeCourt-Judicial-RAG-Analysis/requirements.txt (line 10)) (4.41.2)\n",
            "Collecting accelerate (from -r /content/SupremeCourt-Judicial-RAG-Analysis/requirements.txt (line 11))\n",
            "  Using cached accelerate-0.31.0-py3-none-any.whl (309 kB)\n",
            "Collecting faiss_gpu (from -r /content/SupremeCourt-Judicial-RAG-Analysis/requirements.txt (line 12))\n",
            "  Using cached faiss_gpu-1.7.2-cp310-cp310-manylinux_2_17_x86_64.manylinux2014_x86_64.whl (85.5 MB)\n",
            "Collecting bitsandbytes (from -r /content/SupremeCourt-Judicial-RAG-Analysis/requirements.txt (line 13))\n",
            "  Using cached bitsandbytes-0.43.1-py3-none-manylinux_2_24_x86_64.whl (119.8 MB)\n",
            "Requirement already satisfied: soupsieve>1.2 in /usr/local/lib/python3.10/dist-packages (from beautifulsoup4==4.12.3->-r /content/SupremeCourt-Judicial-RAG-Analysis/requirements.txt (line 1)) (2.5)\n",
            "Collecting tox (from constants==2023.2.0->-r /content/SupremeCourt-Judicial-RAG-Analysis/requirements.txt (line 2))\n",
            "  Using cached tox-4.15.1-py3-none-any.whl (156 kB)\n",
            "INFO: pip is looking at multiple versions of constants to determine which version is compatible with other requirements. This could take a while.\n",
            "\u001b[31mERROR: Could not find a version that satisfies the requirement distutils (from constants) (from versions: none)\u001b[0m\u001b[31m\n",
            "\u001b[0m\u001b[31mERROR: No matching distribution found for distutils\u001b[0m\u001b[31m\n",
            "\u001b[0m"
          ]
        }
      ]
    },
    {
      "cell_type": "markdown",
      "source": [
        "## Run the RAG Pipeline"
      ],
      "metadata": {
        "id": "xOprFKRoct3N"
      }
    },
    {
      "cell_type": "code",
      "source": [
        "%%time\n",
        "!python3 main.py \"Important precedents related to Right to freedom and expressions?\""
      ],
      "metadata": {
        "id": "lYpQPv6sEAYZ",
        "colab": {
          "base_uri": "https://localhost:8080/"
        },
        "outputId": "f970609d-377a-4256-9e5b-ecf9c4a8873b"
      },
      "execution_count": 21,
      "outputs": [
        {
          "output_type": "stream",
          "name": "stdout",
          "text": [
            "2024-06-11 13:47:53.205249: E external/local_xla/xla/stream_executor/cuda/cuda_dnn.cc:9261] Unable to register cuDNN factory: Attempting to register factory for plugin cuDNN when one has already been registered\n",
            "2024-06-11 13:47:53.205316: E external/local_xla/xla/stream_executor/cuda/cuda_fft.cc:607] Unable to register cuFFT factory: Attempting to register factory for plugin cuFFT when one has already been registered\n",
            "2024-06-11 13:47:53.207317: E external/local_xla/xla/stream_executor/cuda/cuda_blas.cc:1515] Unable to register cuBLAS factory: Attempting to register factory for plugin cuBLAS when one has already been registered\n",
            "2024-06-11 13:47:53.219938: I tensorflow/core/platform/cpu_feature_guard.cc:182] This TensorFlow binary is optimized to use available CPU instructions in performance-critical operations.\n",
            "To enable the following instructions: AVX2 AVX512F FMA, in other operations, rebuild TensorFlow with the appropriate compiler flags.\n",
            "2024-06-11 13:47:55.142026: W tensorflow/compiler/tf2tensorrt/utils/py_utils.cc:38] TF-TRT Warning: Could not find TensorRT\n",
            "[INFO] Embeddings and Metadata files loaded successfully.\n",
            "[INFO] Available GPU memory: 15 GB\n",
            "[INFO] GPU memory: 15 | Recommended model: Gemma 2B in float16 or Gemma 7B in 4-bit precision.\n",
            "use_quantization_config set to: False\n",
            "model_id set to: google/gemma-2b-it\n",
            "[INFO] Using attention implementation: sdpa\n",
            "[INFO] Quantization is turned off.\n",
            "`config.hidden_act` is ignored, you should use `config.hidden_activation` instead.\n",
            "Gemma's activation function will be set to `gelu_pytorch_tanh`. Please, use\n",
            "`config.hidden_activation` if you want to override this behaviour.\n",
            "See https://github.com/huggingface/transformers/pull/29402 for more details.\n",
            "Loading checkpoint shards: 100% 2/2 [00:15<00:00,  7.91s/it]\n",
            "model_mem_gb: 4.67\n",
            "GemmaForCausalLM(\n",
            "  (model): GemmaModel(\n",
            "    (embed_tokens): Embedding(256000, 2048, padding_idx=0)\n",
            "    (layers): ModuleList(\n",
            "      (0-17): 18 x GemmaDecoderLayer(\n",
            "        (self_attn): GemmaSdpaAttention(\n",
            "          (q_proj): Linear(in_features=2048, out_features=2048, bias=False)\n",
            "          (k_proj): Linear(in_features=2048, out_features=256, bias=False)\n",
            "          (v_proj): Linear(in_features=2048, out_features=256, bias=False)\n",
            "          (o_proj): Linear(in_features=2048, out_features=2048, bias=False)\n",
            "          (rotary_emb): GemmaRotaryEmbedding()\n",
            "        )\n",
            "        (mlp): GemmaMLP(\n",
            "          (gate_proj): Linear(in_features=2048, out_features=16384, bias=False)\n",
            "          (up_proj): Linear(in_features=2048, out_features=16384, bias=False)\n",
            "          (down_proj): Linear(in_features=16384, out_features=2048, bias=False)\n",
            "          (act_fn): PytorchGELUTanh()\n",
            "        )\n",
            "        (input_layernorm): GemmaRMSNorm()\n",
            "        (post_attention_layernorm): GemmaRMSNorm()\n",
            "      )\n",
            "    )\n",
            "    (norm): GemmaRMSNorm()\n",
            "  )\n",
            "  (lm_head): Linear(in_features=2048, out_features=256000, bias=False)\n",
            ")\n",
            "[INFO] Embeddings and Metadata files loaded successfully.\n",
            "/usr/local/lib/python3.10/dist-packages/huggingface_hub/file_download.py:1132: FutureWarning: `resume_download` is deprecated and will be removed in version 1.0.0. Downloads always resume when possible. If you want to force a new download, use `force_download=True`.\n",
            "  warnings.warn(\n",
            "Title: Express Newspapers (Private) Ltd. And ... vs The Union Of India (Uoi) And\n",
            "Ors. on 19 March, 1958  Category: Precedent  Text: It is trite to observe that\n",
            "the fundamental right to the freedom of speech and expression enshrined in Art.\n",
            "19(1)(a) of our Constitution is based on these provisions in Amendment I of the\n",
            "Constitution of the United States of America and it would be therefore\n",
            "legitimate and proper to refer to those decisions of the Supreme Court of the\n",
            "United States of America in order to appreciate the true nature, scope and\n",
            "extent of this right in spite of the warning administered by this Court against\n",
            "the use of American and other cases, (Vide State of Travancore-Cochin & Ors. v.\n",
            "Bombay Co. Ltd. ([1952] S.C.R. 1112, 1120) and State of Bombay v. R. M. D.\n",
            "Chamarbaugwala. ([ 1957] S.C.R. 874, 918). 191.\n",
            "********************************************************************************************************************************************************************************************************\n",
            "Title: Sakal Papers (P) Ltd. And Ors. vs The Union Of India (Uoi) on 25\n",
            "September, 1961  Category: Precedent  Text: There, this Court held that freedom\n",
            "of speech and expression includes freedom of propagation of ideas and that this\n",
            "freedom is ensured by the freedom of circulation. In that case this Court has\n",
            "also pointed out that freedom of speech and expression are the foundation of all\n",
            "democratic organisations and are essential for the proper functioning of the\n",
            "processes of democracy. These and in other cases this Court pointed out that\n",
            "very narrow and stringent limits have been set to permissible legislative\n",
            "abridgment of the right of freedom of speech and expression. In State of Madras\n",
            "v. V. G. Row ([1952] S.C.R. 597), the question of the reasonableness of\n",
            "restrictions which could be imposed upon a fundamental right has been\n",
            "considered. This Court has pointed out that the nature of the right alleged to\n",
            "have been infringed, the underlying purpose of the restrictions imposed, the\n",
            "extent and scope of the evil sought to be remedied thereby, the disproportion of\n",
            "the imposition and the prevailing conditions at that time should all enter into\n",
            "the judicial verdict.\n",
            "********************************************************************************************************************************************************************************************************\n",
            "Title: Sakal Papers (P) Ltd. And Ors. vs The Union Of India (Uoi) on 25\n",
            "September, 1961  Category: Precedent  Text: It must be borne in mind that the\n",
            "Constitution must be interpreted in a broad way and not in a narrow and pedantic\n",
            "sense. Certain rights have been enshrined in our Constitution as fundamental\n",
            "and, therefore, while considering the nature and content of those rights the\n",
            "Court must not be too astute to interpret the language of the Constitution in so\n",
            "literal a sense as to whittle them down. On the other hand the Court must\n",
            "interpret the Constitution in a manner which would enable the citizen to enjoy\n",
            "the rights guaranteed by it in the fullest measure subject, of course, to\n",
            "permissible restriction. Bearing this principle in mind it would be clear that\n",
            "the right to freedom of speech and expression carries with it the right to\n",
            "publish and circulate one's ideas, opinions and views with complete freedom and\n",
            "by resorting to any available means of publication, subject again to such\n",
            "restrictions as could be legitimately imposed under clause (2) of Article 19.\n",
            "The first decision of this Court in which this was recognized is Romesh Thapar\n",
            "v. State of Madras ([1950] S.C.R. 594).\n",
            "********************************************************************************************************************************************************************************************************\n",
            "Title: Ram Singh And Ors. vs The State Of Delhi And Anr. on 6 April, 1951\n",
            "Category: Precedent  Text: 5. No wonder that, after this encouragement, the\n",
            "petitioners have preferred these petitions raising the same contention before\n",
            "us. On behalf of the petitioners Mr. Hardy submitted that the provisions of the\n",
            "Act should not be used to prevent a citizen from making speeches though they\n",
            "might be considered to be prejudicial to the maintenance of public order, for\n",
            "maintenance of public order is not a purpose for which imposition of a\n",
            "restriction on freedom of speech is authorised by the Constitution, as held by\n",
            "this Court in the Cross-Roads [[1950] S.C.R. 594] and the Organizer [[1950]\n",
            "S.C.R. 605] cases. It is true that in those cases this Court decided by a\n",
            "majority of 5 to 1 that \"unless a law restricting freedom of speech and\n",
            "expression is directed solely against the undermining of the security of the\n",
            "State or the overthrow of it such law cannot fall within the reservation of\n",
            "clause (2) of article 19 although the restrictions which it seeks impose may\n",
            "have been conceived generally in the interests if public order\". But it will be\n",
            "noticed that the statutory provisions which were there declared void and\n",
            "unconstitutional authorised the imposition, in the one case, of a ban on the\n",
            "circulation of a newspaper and, in the other, of pre-censorship on the\n",
            "publication of a journal.\n",
            "********************************************************************************************************************************************************************************************************\n",
            "Title: Ram Singh vs The State Of Delhi And Anotherbalraj ... on 6 April, 1951\n",
            "Category: Precedent  Text: would be well\" the learned Judge concluded \"if the\n",
            "point were raised in this form at an early date in the Supreme Court\". No wonder\n",
            "that, after this encouragement, the peti- tioners have preferred these petitions\n",
            "raising the same contention before us. On behalf of the petitioners Mr. Hardy\n",
            "submitted that the provisions of the Act should not be used to prevent a citizen\n",
            "from making speeches though they might be considered to be prejudicial to the\n",
            "maintenance of public order, for maintenance of public order is not a purpose\n",
            "for which imposition of a restriction on freedom of speech is authorised by the\n",
            "Constitution, as held by this Court in the Cross-roads(1) and the Organizer(2)\n",
            "cases. It is true that in those cases this Court decided by a majority of 5 to 1\n",
            "that \"unless a law restricting freedom of speech and expression is directed\n",
            "solely against the undermining of the security of the State or the overthrow of\n",
            "it such law cannot fall within the reservation of clause (2) of article 19\n",
            "although the restrictions which it seeks to impose may have been conceived\n",
            "generally in the interests of public order\". But it will be noticed that the\n",
            "Statutory provi- sions which were there declared void and unconstitutional\n",
            "authorised the imposition, in the one case, of a ban on the circulation of a\n",
            "newspaper and, in the other, of pre-censor- ship on the publication of a\n",
            "journal.\n",
            "********************************************************************************************************************************************************************************************************\n",
            "Answer:\n",
            "\n",
            "Sure, here are the relevant passages from the context here:  - \"It is trite to\n",
            "observe that the fundamental right to the freedom of speech and expression\n",
            "enshrined in Art. 19(1)(a) of our Constitution is based on these provisions in\n",
            "Amendment I of the Constitution of the United States of America and it would be\n",
            "therefore legitimate and proper to refer to those decisions of the Supreme Court\n",
            "of the United States of America in order to appreciate the true nature, scope\n",
            "and extent of this right in spite of the warning administered by this Court\n",
            "against the use of American and other cases.\"  - \"It must be borne in mind that\n",
            "the Constitution must be interpreted in a broad way and not in a narrow and\n",
            "pedantic sense.\"  - \"The first decision of this Court in which this was\n",
            "recognized is Romesh Thapar v. State of Madras ([1950] S.C.R. 594).\"  - \"In\n",
            "those cases this Court decided by a majority of 5 to 1 that \"unless a law\n",
            "restricting freedom of speech and expression is directed solely against the\n",
            "undermining of the security of the State or the overthrow of it such law cannot\n",
            "fall within the reservation of clause (2) of article 19 although the\n",
            "restrictions which it seeks impose may have been conceived generally in the\n",
            "interests of public order\".\n",
            "CPU times: user 327 ms, sys: 44.9 ms, total: 372 ms\n",
            "Wall time: 50.2 s\n"
          ]
        }
      ]
    }
  ]
}
